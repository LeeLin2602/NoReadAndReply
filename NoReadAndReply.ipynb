{
 "cells": [
  {
   "cell_type": "code",
   "execution_count": 23,
   "metadata": {},
   "outputs": [],
   "source": [
    "import pygame\n",
    "\n",
    "# ------顏色------\n",
    "BLACK = 0, 0, 0\n",
    "WHITE = 255, 255, 255\n",
    "# ------參數------\n",
    "text = \"不回訊息試看看啊?\"\n",
    "# ----------------\n",
    "\n",
    "\n",
    "pygame.init()\n",
    "font = pygame.font.SysFont('Microsoft YaHei', 100)\n",
    "ftext = font.render(text, True, BLACK, WHITE)\n",
    "\n",
    "pygame.image.save(ftext, \"image.jpg\")"
   ]
  }
 ],
 "metadata": {
  "interpreter": {
   "hash": "47ce78d4b5aeb44194ad63b52da7c99effa61f53dc317f138409bee322ce9529"
  },
  "kernelspec": {
   "display_name": "Python 3.8.8 64-bit ('base': conda)",
   "language": "python",
   "name": "python3"
  },
  "language_info": {
   "codemirror_mode": {
    "name": "ipython",
    "version": 3
   },
   "file_extension": ".py",
   "mimetype": "text/x-python",
   "name": "python",
   "nbconvert_exporter": "python",
   "pygments_lexer": "ipython3",
   "version": "3.9.5"
  },
  "orig_nbformat": 4
 },
 "nbformat": 4,
 "nbformat_minor": 2
}
