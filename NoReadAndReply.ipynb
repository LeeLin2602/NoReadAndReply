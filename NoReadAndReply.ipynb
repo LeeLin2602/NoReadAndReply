{
 "cells": [
  {
   "cell_type": "code",
   "execution_count": 1,
   "metadata": {},
   "outputs": [
    {
     "name": "stdout",
     "output_type": "stream",
     "text": [
      "pygame 2.1.0 (SDL 2.0.16, Python 3.9.5)\n",
      "Hello from the pygame community. https://www.pygame.org/contribute.html\n",
      "#----------------#\n",
      "# NoReadAndReply #\n",
      "#----------------#\n",
      "請按提示輸入文字並設定相關參數，此程式會生成圖片檔並複製到剪貼簿中。\n",
      "請輸入文字: 10\n",
      "聊天室是否為黑色背景?(y/N): 10\n"
     ]
    }
   ],
   "source": [
    "'''\n",
    "/NoReadAndReply.ipynb\n",
    "by_YuAN on 12/15/2021\n",
    "'''\n",
    "import pygame,time,win32clipboard as clip\n",
    "import win32con\n",
    "# ------顏色------\n",
    "BLACK = 0, 0, 0\n",
    "WHITE = 255, 255, 255\n",
    "# ------交互------\n",
    "text = \"今天過得如何?\"\n",
    "# ----------------\n",
    "\n",
    "if __name__ == '__main__':\n",
    "    print('#----------------#')\n",
    "    print('# NoReadAndReply #')\n",
    "    print('#----------------#')\n",
    "    pygame.init()\n",
    "    font = pygame.font.SysFont('Microsoft YaHei', 100)    \n",
    "\n",
    "    print('請按提示輸入文字並設定相關參數，此程式會生成圖片檔並複製到剪貼簿中。')\n",
    "\n",
    "    print('請輸入文字: ',end='');text = input();print(text)\n",
    "    print('聊天室是否為黑色背景?(y/N): ',end='');mode = input();print(mode)\n",
    "    if mode == 'y':ftext = font.render(text, True, WHITE, BLACK)\n",
    "    else:ftext = font.render(text, True, BLACK, WHITE)\n",
    "\n",
    "    pygame.image.save(ftext, \"image.bmp\")\n",
    "    clip.OpenClipboard()\n",
    "    clip.EmptyClipboard()\n",
    "    with open(\"image.bmp\", \"rb\") as f: data = f.read()[14:]\n",
    "    clip.SetClipboardData(win32con.CF_DIB, data)\n",
    "    clip.CloseClipboard()\n",
    "\n",
    "    \n",
    "\n",
    "\n",
    "\n"
   ]
  },
  {
   "cell_type": "code",
   "execution_count": 7,
   "metadata": {},
   "outputs": [],
   "source": [
    "import pygame,time,win32clipboard as clip\n",
    "import win32con\n",
    "clip.OpenClipboard()\n",
    "clip.EmptyClipboard()\n",
    "data = 'image.bmp'\n",
    "clip.SetClipboardData(win32con.CF_DIB, data)\n",
    "clip.CloseClipboard()"
   ]
  }
 ],
 "metadata": {
  "interpreter": {
   "hash": "47ce78d4b5aeb44194ad63b52da7c99effa61f53dc317f138409bee322ce9529"
  },
  "kernelspec": {
   "display_name": "Python 3.8.8 64-bit ('base': conda)",
   "language": "python",
   "name": "python3"
  },
  "language_info": {
   "codemirror_mode": {
    "name": "ipython",
    "version": 3
   },
   "file_extension": ".py",
   "mimetype": "text/x-python",
   "name": "python",
   "nbconvert_exporter": "python",
   "pygments_lexer": "ipython3",
   "version": "3.9.5"
  },
  "orig_nbformat": 4
 },
 "nbformat": 4,
 "nbformat_minor": 2
}
